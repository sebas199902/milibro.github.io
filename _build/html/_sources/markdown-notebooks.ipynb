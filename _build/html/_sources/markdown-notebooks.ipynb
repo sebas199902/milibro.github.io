{
 "cells": [
  {
   "cell_type": "markdown",
   "id": "4a4435f0",
   "metadata": {},
   "source": [
    "# Ferrari\n",
    "Ferrari es una compañía de automóviles deportivos con sede en Maranello-Módena, Emilia-Romaña, Italia. Este fabricante es el resultante de la idea de su fundador Enzo Ferrari de crear una marca de automóviles de turismo con prestaciones lujosas y deportivas, basándose en los éxitos obtenidos a partir de la creación de su Scuderia Ferrari de automovilismo en 1929.\n",
    "\n",
    "## Ferrari F40\n",
    "El Ferrari F40 es un automóvil superdeportivo berlinetta de 2 puertas biplaza, producido por el fabricante de automóviles italiano Ferrari. Su fabricación comenzó en 1987 con motivo del 40.º aniversario de la fundación de la marca.\n",
    "\n",
    "Su precio, su comportamiento y su concepto lo convirtieron en un clásico instantáneo y hoy en día, es recordado junto al 288 GTO como el último gran Ferrari de la vieja escuela.\n",
    "\n",
    "Un ejemplar que perteneció al piloto de Fórmula 1, Nigel Mansell, fue vendido en 1990 por un precio récord de 1 000 000 £, el cual se mantuvo hasta los años 2010.\n",
    "\n",
    "[**Esto te llevara a concoer mas sobre la historia**](https://es.wikipedia.org/wiki/Ferrari_F40)\n",
    "![ferrari f40](f40.JPEG)"
   ]
  }
 ],
 "metadata": {
  "jupytext": {
   "cell_metadata_filter": "-all",
   "formats": "md:myst",
   "text_representation": {
    "extension": ".md",
    "format_name": "myst",
    "format_version": 0.13,
    "jupytext_version": "1.11.5"
   }
  },
  "kernelspec": {
   "display_name": "Python 3",
   "language": "python",
   "name": "python3"
  },
  "language_info": {
   "codemirror_mode": {
    "name": "ipython",
    "version": 3
   },
   "file_extension": ".py",
   "mimetype": "text/x-python",
   "name": "python",
   "nbconvert_exporter": "python",
   "pygments_lexer": "ipython3",
   "version": "3.10.2"
  },
  "source_map": [
   14
  ]
 },
 "nbformat": 4,
 "nbformat_minor": 5
}