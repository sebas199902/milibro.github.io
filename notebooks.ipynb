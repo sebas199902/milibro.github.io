{
 "cells": [
  {
   "cell_type": "markdown",
   "metadata": {},
   "source": [
    "# Lamborghini\n",
    "Automobili Lamborghini Holding S.p.A., comúnmente conocido como Lamborghini en idioma español, usualmente lamborghini es un fabricante italiano de automóviles superdeportivos fundado en 1963 por el fabricante de tractores Ferruccio Lamborghini con sede y oficinas en Bolognese y que actualmente es parte de la matriz de Volkswagen. Algunos de los nombres de sus automóviles hacen referencia a nombres de toros bravos de lidia indultados (Murciélago), famosos o históricos (Diablo, Aventador), o simplemente palabras relacionadas con la tauromaquia (Miura, Espada, Urraco). Ferruccio se instaló en Sant'Agata Bolognese, en Bolonia, a pocos kilómetros de Maranello, para rivalizar con su vecino Enzo Ferrari, a raíz de una discusión por la calidad de sus coches. La empresa original se llamaba Automobili Ferruccio Lamborghini SpA, que derivaba a su vez de la Lamborghini Trattori S.A.\n",
    "\n",
    "## Lamborghini Aventador\n",
    "\n",
    "El Lamborghini Aventador es un automóvil superdeportivo biplaza de dos puertas de tijera, con motor central-trasero montado longitudinalmente y tracción en las cuatro ruedas, producido por el fabricante italiano Lamborghini, filial del Grupo Volkswagen. Fue concebido para reemplazar al Murciélago, como el nuevo modelo tope de gama.\n",
    "\n",
    "[**Esto te llevara a concoer mas sobre la historia**](https://es.wikipedia.org/wiki/Lamborghini_Aventador)\n",
    "![lamborghini aventador](aventador.JPEG)"
   ]
  }
 ],
 "metadata": {
  "kernelspec": {
   "display_name": "Python 3",
   "language": "python",
   "name": "python3"
  },
  "language_info": {
   "codemirror_mode": {
    "name": "ipython",
    "version": 3
   },
   "file_extension": ".py",
   "mimetype": "text/x-python",
   "name": "python",
   "nbconvert_exporter": "python",
   "pygments_lexer": "ipython3",
   "version": "3.8.0"
  },
  "widgets": {
   "application/vnd.jupyter.widget-state+json": {
    "state": {},
    "version_major": 2,
    "version_minor": 0
   }
  }
 },
 "nbformat": 4,
 "nbformat_minor": 4
}
